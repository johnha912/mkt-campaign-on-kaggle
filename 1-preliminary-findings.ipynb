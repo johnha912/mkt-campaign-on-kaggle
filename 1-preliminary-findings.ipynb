{
 "cells": [
  {
   "cell_type": "markdown",
   "metadata": {},
   "source": [
#Make sure opendatasets and kaggle already installed on your Python, and do the following script partly (uploading takes longer time to render on GitHub, so I typed manually instead ;)
import opendatasets as od
import pandas
]
  },
{
 "cells": [
  {
   "cell_type": "markdown",
   "metadata": {},
   "source": [
#Kaggle's requirement about API token, you need to create an account on Kaggle then create them in profile settings  
od.download(
    "https://www.kaggle.com/datasets/rodsaldanha/arketing-campaign"
)
]
  },
 {
   "cell_type": "markdown",
   "metadata": {},
   "source": [
#I usually use ProfileReport from pandas-profiling by ydataai, that's very useful, you can get a brief report real quick
pip install http://github.com/pandas-profiling/pandas-profiling/archive/master.zip
]
 },

 {
   "cell_type": "markdown",
   "metadata": {},
   "source": [
import pandas as pd
df = pd.read_excel('/content/arketing-campaign/marketing_campaign.xlsx')
#The dir may depend on your local host, for me it'll be /content/...
]
 },

 {
   "cell_type": "markdown",
   "metadata": {},
   "source": [
from pandas_profiling import ProfileReport
profile = ProfileReport(
    df, title="Pandas Profiling Report dataset"
)

#Try typing "profile" at the end, a html file will appear
]
 }
