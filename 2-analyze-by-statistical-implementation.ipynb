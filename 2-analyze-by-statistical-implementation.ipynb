{
  "nbformat": 4,
  "nbformat_minor": 0,
  "metadata": {
    "colab": {
      "provenance": []
    },
    "kernelspec": {
      "name": "python3",
      "display_name": "Python 3"
    },
    "language_info": {
      "name": "python"
    }
  },
  "cells": [
    {
      "cell_type": "code",
      "source": [
        "import pandas as pd\n",
        "import numpy as np\n",
        "\n",
        "df = pd.read_excel(r'marketing_campaign.xlsx')\n",
        "df"
      ],
      "metadata": {
        "id": "h9c5nm-3Huqy"
      },
      "execution_count": null,
      "outputs": []
    },
    {
      "cell_type": "code",
      "source": [
        "#1.Descriptive Analysis\n",
        "df.describe()"
      ],
      "metadata": {
        "id": "_vwIz9K0IFvU"
      },
      "execution_count": null,
      "outputs": []
    },
    {
      "cell_type": "code",
      "source": [
        "#2.Check if there is any null/NaN data (we've already seen income column have missing value), so I decided to eliminate them   \n",
        "df.isnull().sum()"
      ],
      "metadata": {
        "id": "oACS6FLpIK20"
      },
      "execution_count": null,
      "outputs": []
    },
    {
      "cell_type": "code",
      "source": [
        "#3a.Let's investigate some correlation coefficient\n",
        "df.corr()"
      ],
      "metadata": {
        "id": "ohdOfqV3IMtR"
      },
      "execution_count": null,
      "outputs": []
    },
    {
      "cell_type": "code",
      "source": [
        "#3b. Visuallize them with Seaborn and matplotlib\n",
        "import matplotlib.pyplot as plt\n",
        "import seaborn as sns\n",
        "corr = df.corr()\n",
        "# Generate a mask for the upper triangle\n",
        "mask = np.triu(np.ones_like(corr, dtype=np.bool))\n",
        "plt.figure(figsize=(11,9))\n",
        "cmap = sns.diverging_palette(5, 250, as_cmap=True)\n",
        "# Draw the heatmap with the mask and correct aspect ratio\n",
        "sns.heatmap(corr, mask=mask, cmap=cmap, vmax=.6, vmin=-.6, center=0,\n",
        "            square=True, linewidths=.5, cbar_kws={\"shrink\": .5})\n",
        "plt.title(\"Numerical features correlation matrix\", fontsize=16)\n",
        "plt.show()"
      ],
      "metadata": {
        "id": "g7wZOBgnIObl"
      },
      "execution_count": null,
      "outputs": []
    },
    {
      "cell_type": "code",
      "source": [
        "#4. Elbow method - k-Mean for deciding groups of clustering\n",
        "import pandas as pd\n",
        "import numpy as np\n",
        "import matplotlib.pyplot as plt\n",
        "%matplotlib inline \n",
        "from sklearn.cluster import KMeans\n",
        "from sklearn import datasets\n",
        "\n",
        "query = pd.read_csv(r'mkt_campaign_query.csv')\n",
        "\n",
        "dfquery = pd.DataFrame(query['Monetary'])\n",
        "print(dfquery.head())\n",
        "\n",
        "distortions = []\n",
        "K = range(1,10)\n",
        "for k in K:\n",
        "    kmeanModel = KMeans(n_clusters=k)\n",
        "    kmeanModel.fit(dfquery)\n",
        "    distortions.append(kmeanModel.inertia_)\n",
        "\n",
        "\n",
        "plt.figure(figsize=(16,8))\n",
        "plt.plot(K, distortions, 'bx-')\n",
        "plt.xlabel('k')\n",
        "plt.ylabel('Distortion')\n",
        "plt.title('The Elbow Method showing the optimal k')\n",
        "plt.show()"
      ],
      "metadata": {
        "id": "j1h0W4cjIRNO"
      },
      "execution_count": null,
      "outputs": []
    }
  ]
}