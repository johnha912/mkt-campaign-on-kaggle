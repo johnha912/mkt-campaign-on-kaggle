{
  "nbformat": 4,
  "nbformat_minor": 0,
  "metadata": {
    "colab": {
      "provenance": []
    },
    "kernelspec": {
      "name": "python3",
      "display_name": "Python 3"
    },
    "language_info": {
      "name": "python"
    }
  },
  "cells": [
    {
      "cell_type": "code",
      "source": [
        "#Make sure opendatasets and kaggle already installed on your Python, and do the following script partly (uploading takes longer time to render on GitHub, so I typed manually instead ;)\n",
        "import opendatasets as od\n",
        "import pandas"
      ],
      "metadata": {
        "id": "clxid2DvG6o7"
      },
      "execution_count": null,
      "outputs": []
    },
    {
      "cell_type": "code",
      "source": [
        "#Kaggle's requirement about API token, you need to create an account on Kaggle then create them in profile settings  \n",
        "od.download(\n",
        "    \"https://www.kaggle.com/datasets/rodsaldanha/arketing-campaign\"\n",
        ")"
      ],
      "metadata": {
        "id": "ky2tX_F-G9_P"
      },
      "execution_count": null,
      "outputs": []
    },
    {
      "cell_type": "code",
      "source": [
        "#I usually use ProfileReport from pandas-profiling by ydataai, that's very useful, you can get a brief report real quick\n",
        "pip install http://github.com/pandas-profiling/pandas-profiling/archive/master.zip\n",
        "import pandas as pd\n",
        "df = pd.read_excel('/content/arketing-campaign/marketing_campaign.xlsx')\n",
        "#The dir may depend on your local host, for me it'll be /content/..."
      ],
      "metadata": {
        "id": "QhW27RQKHAxf"
      },
      "execution_count": null,
      "outputs": []
    },
    {
      "cell_type": "code",
      "source": [
        "from pandas_profiling import ProfileReport\n",
        "profile = ProfileReport(\n",
        "    df, title=\"Pandas Profiling Report dataset\"\n",
        ")\n",
        "#Try typing \"profile\" at the end, a html file will appear"
      ],
      "metadata": {
        "id": "fbCcQkNKHGm3"
      },
      "execution_count": null,
      "outputs": []
    }
  ]
}